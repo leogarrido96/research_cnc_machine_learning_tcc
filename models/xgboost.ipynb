{
 "cells": [
  {
   "cell_type": "markdown",
   "id": "131bc5cc",
   "metadata": {},
   "source": [
    "# Importando bibliotecas"
   ]
  },
  {
   "cell_type": "code",
   "execution_count": 3,
   "id": "a1d510c6",
   "metadata": {},
   "outputs": [],
   "source": [
    "import matplotlib.pyplot as plt\n",
    "import pandas as pd\n",
    "import seaborn as sns\n",
    "from sklearn.compose import ColumnTransformer\n",
    "from xgboost import XGBClassifier\n",
    "from sklearn.metrics import classification_report, confusion_matrix, roc_curve, roc_auc_score\n",
    "from sklearn.model_selection import train_test_split\n",
    "from sklearn.pipeline import Pipeline\n",
    "from sklearn.preprocessing import StandardScaler, OneHotEncoder"
   ]
  },
  {
   "cell_type": "markdown",
   "id": "ded5fe86",
   "metadata": {},
   "source": [
    "# Lendo dados"
   ]
  },
  {
   "cell_type": "code",
   "execution_count": 4,
   "id": "79bbe809",
   "metadata": {},
   "outputs": [],
   "source": [
    "df = pd.read_csv('../data/processed/sample_df_processed.csv')\n",
    "df['speed'] = df['speed'].astype('str')\n",
    "df['feed'] = df['feed'].astype('str')"
   ]
  },
  {
   "cell_type": "code",
   "execution_count": 5,
   "id": "0732c953",
   "metadata": {},
   "outputs": [
    {
     "data": {
      "text/plain": [
       "vibration_x    float64\n",
       "vibration_y    float64\n",
       "vibration_z    float64\n",
       "machine         object\n",
       "operation       object\n",
       "description     object\n",
       "speed           object\n",
       "feed            object\n",
       "duration         int64\n",
       "result           int64\n",
       "dtype: object"
      ]
     },
     "execution_count": 5,
     "metadata": {},
     "output_type": "execute_result"
    }
   ],
   "source": [
    "df.dtypes"
   ]
  },
  {
   "cell_type": "markdown",
   "id": "55ba24dd",
   "metadata": {},
   "source": [
    "# Separando dados em treino e teste"
   ]
  },
  {
   "cell_type": "code",
   "execution_count": 6,
   "id": "ca3ed008",
   "metadata": {},
   "outputs": [],
   "source": [
    "X = df.drop(columns=[\"result\"])  \n",
    "y = df[\"result\"]\n",
    "\n",
    "# Separando o dataset em treino e teste mantendo a proporção das classes e com uma divisão de 70% para treino e 30% para teste\n",
    "X_train, X_test, y_train, y_test = train_test_split(\n",
    "    X, y, test_size=0.3, stratify=y, random_state=42\n",
    ")"
   ]
  },
  {
   "cell_type": "markdown",
   "id": "01f3cbf2",
   "metadata": {},
   "source": [
    "# Pre-processamento dos dados"
   ]
  },
  {
   "cell_type": "code",
   "execution_count": 7,
   "id": "d27c2de2",
   "metadata": {},
   "outputs": [],
   "source": [
    "# DIVISÃO ENTRE COLUNAS CATEGORICAS E NUMERICAS\n",
    "categorical_cols = X.select_dtypes(include=['object']).columns\n",
    "numeric_cols = X.select_dtypes(include=['int64', 'float64']).columns"
   ]
  },
  {
   "cell_type": "code",
   "execution_count": 8,
   "id": "cc21656a",
   "metadata": {},
   "outputs": [],
   "source": [
    "# NORMALIZAR COLUNAS NUMERICAS\n",
    "numeric_transformer = Pipeline(steps=[\n",
    "    ('scaler', StandardScaler())\n",
    "])\n",
    "\n",
    "# CODIFICAR COLUNAS CATEGORICAS\n",
    "categorical_transformer = Pipeline(steps=[\n",
    "    ('encoder', OneHotEncoder(handle_unknown='ignore'))\n",
    "])"
   ]
  },
  {
   "cell_type": "code",
   "execution_count": 9,
   "id": "e30ac36c",
   "metadata": {},
   "outputs": [],
   "source": [
    "# PRE-PROCESSAMENTO DOS DADOS \n",
    "preprocessor = ColumnTransformer(\n",
    "    transformers=[\n",
    "        ('num', numeric_transformer, numeric_cols),\n",
    "        ('cat', categorical_transformer, categorical_cols)\n",
    "    ]\n",
    ")"
   ]
  },
  {
   "cell_type": "markdown",
   "id": "b61af7b1",
   "metadata": {},
   "source": [
    "# Criando pipeline utilizando preprocessamento dos dados e utilizando a algoritmo de regressão logistica"
   ]
  },
  {
   "cell_type": "code",
   "execution_count": 10,
   "id": "48b94822",
   "metadata": {},
   "outputs": [
    {
     "name": "stderr",
     "output_type": "stream",
     "text": [
      "c:\\Users\\Leonardo\\Python\\PROJETOS FACULDADE\\tcc_machine_learning\\venv\\Lib\\site-packages\\xgboost\\training.py:183: UserWarning: [17:17:27] WARNING: C:\\actions-runner\\_work\\xgboost\\xgboost\\src\\learner.cc:738: \n",
      "Parameters: { \"use_label_encoder\" } are not used.\n",
      "\n",
      "  bst.update(dtrain, iteration=i, fobj=obj)\n"
     ]
    }
   ],
   "source": [
    "# CRIANDO O PIPELINE COM OS DADOS PRE-PROCESSADOS E O CLASSIFICADOR\n",
    "pipeline = Pipeline(steps=[\n",
    "    ('preprocessor', preprocessor),\n",
    "    ('classifier', XGBClassifier(\n",
    "        use_label_encoder=False,  \n",
    "        eval_metric='logloss'\n",
    "    ))\n",
    "])\n",
    "\n",
    "pipeline.fit(X_train, y_train)\n",
    "y_pred = pipeline.predict(X_test)"
   ]
  },
  {
   "cell_type": "markdown",
   "id": "58da2f57",
   "metadata": {},
   "source": [
    "## Criando matriz de confusão"
   ]
  },
  {
   "cell_type": "code",
   "execution_count": 11,
   "id": "9e487c51",
   "metadata": {},
   "outputs": [
    {
     "data": {
      "image/png": "[encoded data removed]",
      "text/plain": [
       "<Figure size 600x400 with 2 Axes>"
      ]
     },
     "metadata": {},
     "output_type": "display_data"
    }
   ],
   "source": [
    "cm = confusion_matrix(y_test, y_pred)\n",
    "\n",
    "plt.figure(figsize=(6,4))\n",
    "sns.heatmap(\n",
    "    cm,\n",
    "    annot=True,\n",
    "    fmt=\"d\",\n",
    "    cmap=\"RdYlGn_r\",\n",
    "    linewidths=0.5,\n",
    "    xticklabels=[\"OK (0)\", \"NOK (1)\"],\n",
    "    yticklabels=[\"OK (0)\", \"NOK (1)\"]\n",
    ")\n",
    "plt.xlabel(\"Predito\")\n",
    "plt.ylabel(\"Real\")\n",
    "plt.title(\"Matriz de Confusão\")\n",
    "plt.tight_layout()\n",
    "plt.show()"
   ]
  },
  {
   "cell_type": "markdown",
   "id": "3f95d840",
   "metadata": {},
   "source": [
    "1. Observa-se para classe ok mas causado pelo desbalaceamento\n",
    "2. Para classe nok há uma melhora mas ainda abaixo do esperado."
   ]
  },
  {
   "cell_type": "markdown",
   "id": "70310718",
   "metadata": {},
   "source": [
    "## Avaliando métricas"
   ]
  },
  {
   "cell_type": "code",
   "execution_count": 12,
   "id": "0e483627",
   "metadata": {},
   "outputs": [
    {
     "data": {
      "text/html": [
       "<div>\n",
       "<style scoped>\n",
       "    .dataframe tbody tr th:only-of-type {\n",
       "        vertical-align: middle;\n",
       "    }\n",
       "\n",
       "    .dataframe tbody tr th {\n",
       "        vertical-align: top;\n",
       "    }\n",
       "\n",
       "    .dataframe thead th {\n",
       "        text-align: right;\n",
       "    }\n",
       "</style>\n",
       "<table border=\"1\" class=\"dataframe\">\n",
       "  <thead>\n",
       "    <tr style=\"text-align: right;\">\n",
       "      <th></th>\n",
       "      <th>precision</th>\n",
       "      <th>recall</th>\n",
       "      <th>f1-score</th>\n",
       "    </tr>\n",
       "  </thead>\n",
       "  <tbody>\n",
       "    <tr>\n",
       "      <th>0</th>\n",
       "      <td>0.972182</td>\n",
       "      <td>0.998704</td>\n",
       "      <td>0.985265</td>\n",
       "    </tr>\n",
       "    <tr>\n",
       "      <th>1</th>\n",
       "      <td>0.736264</td>\n",
       "      <td>0.112369</td>\n",
       "      <td>0.194980</td>\n",
       "    </tr>\n",
       "    <tr>\n",
       "      <th>accuracy</th>\n",
       "      <td>0.971059</td>\n",
       "      <td>0.971059</td>\n",
       "      <td>0.971059</td>\n",
       "    </tr>\n",
       "  </tbody>\n",
       "</table>\n",
       "</div>"
      ],
      "text/plain": [
       "          precision    recall  f1-score\n",
       "0          0.972182  0.998704  0.985265\n",
       "1          0.736264  0.112369  0.194980\n",
       "accuracy   0.971059  0.971059  0.971059"
      ]
     },
     "execution_count": 12,
     "metadata": {},
     "output_type": "execute_result"
    }
   ],
   "source": [
    "report = classification_report(y_test, y_pred, output_dict=True, zero_division=0)\n",
    "report_df = pd.DataFrame(report).transpose()\n",
    "report_df = report_df.drop(columns=['support'])\n",
    "report_df.head(3)"
   ]
  },
  {
   "cell_type": "markdown",
   "id": "2d42adff",
   "metadata": {},
   "source": [
    "Como esperando no relatório das métricas observamos:\n",
    "1. A classe OK tem 97,2% das previsoes corretas. Recall de 99,9% o que mostra que a maioria dos casos ok foram detectados. Com resultados altos trazem um alto f1-score;\n",
    "2. A classe NOK tem 73,6% de previsões corretas. Recall de 11,2% que mostra que o modelo ainda detecta muito pouco os casos nok. Como resultado desse equilibrio traz um f1-score baixo.\n",
    "3. A acuracia é alta devido ao desbalaceamento das classes."
   ]
  },
  {
   "cell_type": "code",
   "execution_count": 13,
   "id": "c2eab469",
   "metadata": {},
   "outputs": [
    {
     "data": {
      "image/png": "[encoded data removed]",
      "text/plain": [
       "<Figure size 640x480 with 1 Axes>"
      ]
     },
     "metadata": {},
     "output_type": "display_data"
    },
    {
     "name": "stdout",
     "output_type": "stream",
     "text": [
      "AUC: 0.88\n"
     ]
    }
   ],
   "source": [
    "y_proba = pipeline.predict_proba(X_test)[:, 1]\n",
    "auc = roc_auc_score(y_test, y_proba)\n",
    "\n",
    "\n",
    "fpr, tpr, thresholds = roc_curve(y_test, y_proba)\n",
    "plt.plot(fpr, tpr)\n",
    "plt.xlabel(\"FPR\")\n",
    "plt.ylabel(\"TPR (Recall)\")\n",
    "plt.title(\"ROC Curve\")\n",
    "plt.show()\n",
    "print(f\"AUC: {auc:.2f}\")\n",
    "\n"
   ]
  },
  {
   "cell_type": "markdown",
   "id": "53099881",
   "metadata": {},
   "source": [
    "Pela curva ROC observamos:\n",
    "1. Curva cresce rapidamente o que mostra boa distribuição entre as classes\n",
    "2. Curva com bom resultado mas o desempenho real pelo indicadores estão abaixo\n",
    "3. Encontrar a divisão adequada tende a melhorar o desempenho do modelo."
   ]
  },
  {
   "cell_type": "code",
   "execution_count": 15,
   "id": "bdcec150",
   "metadata": {},
   "outputs": [
    {
     "name": "stdout",
     "output_type": "stream",
     "text": [
      "Threshold ideal (Youden): 0.0294\n"
     ]
    }
   ],
   "source": [
    "import numpy as np\n",
    "fpr, tpr, thresholds = roc_curve(y_test, y_proba)\n",
    "youden_index = tpr - fpr\n",
    "optimal_threshold = thresholds[np.argmax(youden_index)]\n",
    "\n",
    "print(f\"Threshold ideal (Youden): {optimal_threshold:.4f}\")\n"
   ]
  },
  {
   "cell_type": "code",
   "execution_count": 17,
   "id": "6b376d66",
   "metadata": {},
   "outputs": [
    {
     "data": {
      "image/png": "[encoded data removed]",
      "text/plain": [
       "<Figure size 600x400 with 2 Axes>"
      ]
     },
     "metadata": {},
     "output_type": "display_data"
    }
   ],
   "source": [
    "y_pred = (y_proba >= optimal_threshold).astype(int)\n",
    "\n",
    "cm = confusion_matrix(y_test, y_pred)\n",
    "\n",
    "plt.figure(figsize=(6, 4))\n",
    "sns.heatmap(\n",
    "    cm,\n",
    "    annot=True,\n",
    "    fmt=\"d\",\n",
    "    cmap=\"RdYlGn_r\",\n",
    "    linewidths=0.5,\n",
    "    xticklabels=[\"OK (0)\", \"NOK (1)\"],\n",
    "    yticklabels=[\"OK (0)\", \"NOK (1)\"]\n",
    ")\n",
    "plt.xlabel(\"Predito\")\n",
    "plt.ylabel(\"Real\")\n",
    "plt.title(\"Matriz de Confusão (Threshold ajustado)\")\n",
    "plt.tight_layout()\n",
    "plt.show()"
   ]
  },
  {
   "cell_type": "code",
   "execution_count": null,
   "id": "68be1642",
   "metadata": {},
   "outputs": [
    {
     "data": {
      "text/html": [
       "<div>\n",
       "<style scoped>\n",
       "    .dataframe tbody tr th:only-of-type {\n",
       "        vertical-align: middle;\n",
       "    }\n",
       "\n",
       "    .dataframe tbody tr th {\n",
       "        vertical-align: top;\n",
       "    }\n",
       "\n",
       "    .dataframe thead th {\n",
       "        text-align: right;\n",
       "    }\n",
       "</style>\n",
       "<table border=\"1\" class=\"dataframe\">\n",
       "  <thead>\n",
       "    <tr style=\"text-align: right;\">\n",
       "      <th></th>\n",
       "      <th>precision</th>\n",
       "      <th>recall</th>\n",
       "      <th>f1-score</th>\n",
       "    </tr>\n",
       "  </thead>\n",
       "  <tbody>\n",
       "    <tr>\n",
       "      <th>0</th>\n",
       "      <td>0.993480</td>\n",
       "      <td>0.719248</td>\n",
       "      <td>0.834410</td>\n",
       "    </tr>\n",
       "    <tr>\n",
       "      <th>1</th>\n",
       "      <td>0.089134</td>\n",
       "      <td>0.853369</td>\n",
       "      <td>0.161409</td>\n",
       "    </tr>\n",
       "    <tr>\n",
       "      <th>accuracy</th>\n",
       "      <td>0.723431</td>\n",
       "      <td>0.723431</td>\n",
       "      <td>0.723431</td>\n",
       "    </tr>\n",
       "  </tbody>\n",
       "</table>\n",
       "</div>"
      ],
      "text/plain": [
       "          precision    recall  f1-score\n",
       "0          0.993480  0.719248  0.834410\n",
       "1          0.089134  0.853369  0.161409\n",
       "accuracy   0.723431  0.723431  0.723431"
      ]
     },
     "execution_count": 18,
     "metadata": {},
     "output_type": "execute_result"
    }
   ],
   "source": [
    "report = classification_report(y_test, y_pred, output_dict=True, zero_division=0)\n",
    "report_df = pd.DataFrame(report).transpose()\n",
    "report_df = report_df.drop(columns=['support'])  \n",
    "report_df.head(3)"
   ]
  },
  {
   "cell_type": "code",
   "execution_count": 19,
   "id": "a5c60f71",
   "metadata": {},
   "outputs": [
    {
     "name": "stdout",
     "output_type": "stream",
     "text": [
      "Threshold ideal (F1-score máximo): 0.1614\n"
     ]
    }
   ],
   "source": [
    "from sklearn.metrics import precision_recall_curve\n",
    "\n",
    "precision, recall, thresholds_pr = precision_recall_curve(y_test, y_proba)\n",
    "f1 = 2 * (precision * recall) / (precision + recall + 1e-8)\n",
    "optimal_threshold_f1 = thresholds_pr[np.argmax(f1)]\n",
    "\n",
    "print(f\"Threshold ideal (F1-score máximo): {optimal_threshold_f1:.4f}\")"
   ]
  },
  {
   "cell_type": "code",
   "execution_count": 20,
   "id": "2277d700",
   "metadata": {},
   "outputs": [],
   "source": [
    "precision, recall, thresholds_pr = precision_recall_curve(y_test, y_proba)\n",
    "f1 = 2 * (precision * recall) / (precision + recall + 1e-8)\n",
    "optimal_threshold_f1 = thresholds_pr[np.argmax(f1)]\n"
   ]
  },
  {
   "cell_type": "code",
   "execution_count": 21,
   "id": "d3d0cb53",
   "metadata": {},
   "outputs": [
    {
     "data": {
      "image/png": "[encoded data removed]",
      "text/plain": [
       "<Figure size 600x400 with 2 Axes>"
      ]
     },
     "metadata": {},
     "output_type": "display_data"
    }
   ],
   "source": [
    "y_pred = (y_proba >= optimal_threshold).astype(int)\n",
    "\n",
    "cm = confusion_matrix(y_test, y_pred)\n",
    "\n",
    "plt.figure(figsize=(6, 4))\n",
    "sns.heatmap(\n",
    "    cm,\n",
    "    annot=True,\n",
    "    fmt=\"d\",\n",
    "    cmap=\"RdYlGn_r\",\n",
    "    linewidths=0.5,\n",
    "    xticklabels=[\"OK (0)\", \"NOK (1)\"],\n",
    "    yticklabels=[\"OK (0)\", \"NOK (1)\"]\n",
    ")\n",
    "plt.xlabel(\"Predito\")\n",
    "plt.ylabel(\"Real\")\n",
    "plt.title(\"Matriz de Confusão (Threshold ajustado)\")\n",
    "plt.tight_layout()\n",
    "plt.show()"
   ]
  },
  {
   "cell_type": "code",
   "execution_count": 22,
   "id": "ea036104",
   "metadata": {},
   "outputs": [
    {
     "data": {
      "text/html": [
       "<div>\n",
       "<style scoped>\n",
       "    .dataframe tbody tr th:only-of-type {\n",
       "        vertical-align: middle;\n",
       "    }\n",
       "\n",
       "    .dataframe tbody tr th {\n",
       "        vertical-align: top;\n",
       "    }\n",
       "\n",
       "    .dataframe thead th {\n",
       "        text-align: right;\n",
       "    }\n",
       "</style>\n",
       "<table border=\"1\" class=\"dataframe\">\n",
       "  <thead>\n",
       "    <tr style=\"text-align: right;\">\n",
       "      <th></th>\n",
       "      <th>precision</th>\n",
       "      <th>recall</th>\n",
       "      <th>f1-score</th>\n",
       "    </tr>\n",
       "  </thead>\n",
       "  <tbody>\n",
       "    <tr>\n",
       "      <th>0</th>\n",
       "      <td>0.993480</td>\n",
       "      <td>0.719248</td>\n",
       "      <td>0.834410</td>\n",
       "    </tr>\n",
       "    <tr>\n",
       "      <th>1</th>\n",
       "      <td>0.089134</td>\n",
       "      <td>0.853369</td>\n",
       "      <td>0.161409</td>\n",
       "    </tr>\n",
       "    <tr>\n",
       "      <th>accuracy</th>\n",
       "      <td>0.723431</td>\n",
       "      <td>0.723431</td>\n",
       "      <td>0.723431</td>\n",
       "    </tr>\n",
       "  </tbody>\n",
       "</table>\n",
       "</div>"
      ],
      "text/plain": [
       "          precision    recall  f1-score\n",
       "0          0.993480  0.719248  0.834410\n",
       "1          0.089134  0.853369  0.161409\n",
       "accuracy   0.723431  0.723431  0.723431"
      ]
     },
     "execution_count": 22,
     "metadata": {},
     "output_type": "execute_result"
    }
   ],
   "source": [
    "report = classification_report(y_test, y_pred, output_dict=True, zero_division=0)\n",
    "report_df = pd.DataFrame(report).transpose()\n",
    "report_df = report_df.drop(columns=['support'])  \n",
    "report_df.head(3)"
   ]
  },
  {
   "cell_type": "markdown",
   "id": "eb08013b",
   "metadata": {},
   "source": [
    "## Ajustar desbalancemaento"
   ]
  },
  {
   "cell_type": "code",
   "execution_count": 23,
   "id": "1d463665",
   "metadata": {},
   "outputs": [],
   "source": [
    "from collections import Counter\n",
    "\n",
    "counter = Counter(y_train)\n",
    "scale_pos_weight = counter[0] / counter[1]"
   ]
  },
  {
   "cell_type": "code",
   "execution_count": 24,
   "id": "69344a2d",
   "metadata": {},
   "outputs": [
    {
     "name": "stderr",
     "output_type": "stream",
     "text": [
      "c:\\Users\\Leonardo\\Python\\PROJETOS FACULDADE\\tcc_machine_learning\\venv\\Lib\\site-packages\\xgboost\\training.py:183: UserWarning: [19:20:07] WARNING: C:\\actions-runner\\_work\\xgboost\\xgboost\\src\\learner.cc:738: \n",
      "Parameters: { \"use_label_encoder\" } are not used.\n",
      "\n",
      "  bst.update(dtrain, iteration=i, fobj=obj)\n"
     ]
    }
   ],
   "source": [
    "# CRIANDO O PIPELINE COM OS DADOS PRE-PROCESSADOS E O CLASSIFICADOR\n",
    "pipeline = Pipeline(steps=[\n",
    "    ('preprocessor', preprocessor),\n",
    "    ('classifier', XGBClassifier(\n",
    "        use_label_encoder=False,  \n",
    "        eval_metric='logloss',\n",
    "        scale_pos_weight=scale_pos_weight\n",
    "    ))\n",
    "])\n",
    "\n",
    "pipeline.fit(X_train, y_train)\n",
    "y_pred = pipeline.predict(X_test)"
   ]
  },
  {
   "cell_type": "code",
   "execution_count": 25,
   "id": "6c1fdb15",
   "metadata": {},
   "outputs": [
    {
     "data": {
      "image/png": "[encoded data removed]",
      "text/plain": [
       "<Figure size 600x400 with 2 Axes>"
      ]
     },
     "metadata": {},
     "output_type": "display_data"
    }
   ],
   "source": [
    "cm = confusion_matrix(y_test, y_pred)\n",
    "\n",
    "plt.figure(figsize=(6,4))\n",
    "sns.heatmap(\n",
    "    cm,\n",
    "    annot=True,\n",
    "    fmt=\"d\",\n",
    "    cmap=\"RdYlGn_r\",\n",
    "    linewidths=0.5,\n",
    "    xticklabels=[\"OK (0)\", \"NOK (1)\"],\n",
    "    yticklabels=[\"OK (0)\", \"NOK (1)\"]\n",
    ")\n",
    "plt.xlabel(\"Predito\")\n",
    "plt.ylabel(\"Real\")\n",
    "plt.title(\"Matriz de Confusão\")\n",
    "plt.tight_layout()\n",
    "plt.show()"
   ]
  },
  {
   "cell_type": "code",
   "execution_count": 26,
   "id": "dab6d40d",
   "metadata": {},
   "outputs": [
    {
     "data": {
      "text/html": [
       "<div>\n",
       "<style scoped>\n",
       "    .dataframe tbody tr th:only-of-type {\n",
       "        vertical-align: middle;\n",
       "    }\n",
       "\n",
       "    .dataframe tbody tr th {\n",
       "        vertical-align: top;\n",
       "    }\n",
       "\n",
       "    .dataframe thead th {\n",
       "        text-align: right;\n",
       "    }\n",
       "</style>\n",
       "<table border=\"1\" class=\"dataframe\">\n",
       "  <thead>\n",
       "    <tr style=\"text-align: right;\">\n",
       "      <th></th>\n",
       "      <th>precision</th>\n",
       "      <th>recall</th>\n",
       "      <th>f1-score</th>\n",
       "    </tr>\n",
       "  </thead>\n",
       "  <tbody>\n",
       "    <tr>\n",
       "      <th>0</th>\n",
       "      <td>0.992448</td>\n",
       "      <td>0.748106</td>\n",
       "      <td>0.853126</td>\n",
       "    </tr>\n",
       "    <tr>\n",
       "      <th>1</th>\n",
       "      <td>0.095194</td>\n",
       "      <td>0.823181</td>\n",
       "      <td>0.170653</td>\n",
       "    </tr>\n",
       "    <tr>\n",
       "      <th>accuracy</th>\n",
       "      <td>0.750447</td>\n",
       "      <td>0.750447</td>\n",
       "      <td>0.750447</td>\n",
       "    </tr>\n",
       "  </tbody>\n",
       "</table>\n",
       "</div>"
      ],
      "text/plain": [
       "          precision    recall  f1-score\n",
       "0          0.992448  0.748106  0.853126\n",
       "1          0.095194  0.823181  0.170653\n",
       "accuracy   0.750447  0.750447  0.750447"
      ]
     },
     "execution_count": 26,
     "metadata": {},
     "output_type": "execute_result"
    }
   ],
   "source": [
    "report = classification_report(y_test, y_pred, output_dict=True, zero_division=0)\n",
    "report_df = pd.DataFrame(report).transpose()\n",
    "report_df = report_df.drop(columns=['support'])  \n",
    "report_df.head(3)"
   ]
  },
  {
   "cell_type": "code",
   "execution_count": null,
   "id": "b8694d32",
   "metadata": {},
   "outputs": [],
   "source": []
  }
 ],
 "metadata": {
  "kernelspec": {
   "display_name": "venv",
   "language": "python",
   "name": "python3"
  },
  "language_info": {
   "codemirror_mode": {
    "name": "ipython",
    "version": 3
   },
   "file_extension": ".py",
   "mimetype": "text/x-python",
   "name": "python",
   "nbconvert_exporter": "python",
   "pygments_lexer": "ipython3",
   "version": "3.13.2"
  }
 },
 "nbformat": 4,
 "nbformat_minor": 5
}
