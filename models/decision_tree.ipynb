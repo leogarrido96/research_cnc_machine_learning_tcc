{
 "cells": [
  {
   "cell_type": "markdown",
   "id": "6073928c",
   "metadata": {},
   "source": [
    "# Importando bibliotecas"
   ]
  },
  {
   "cell_type": "code",
   "execution_count": 1,
   "id": "9733ccf4",
   "metadata": {},
   "outputs": [],
   "source": [
    "import matplotlib.pyplot as plt\n",
    "import pandas as pd\n",
    "import numpy as np\n",
    "import seaborn as sns\n",
    "from sklearn.compose import ColumnTransformer\n",
    "from sklearn.tree import DecisionTreeClassifier\n",
    "from sklearn.tree import plot_tree\n",
    "from sklearn.model_selection import train_test_split, GridSearchCV\n",
    "from sklearn.pipeline import Pipeline\n",
    "from sklearn.preprocessing import StandardScaler, OneHotEncoder\n",
    "from sklearn.metrics import classification_report, confusion_matrix, precision_recall_curve, roc_curve, roc_auc_score"
   ]
  },
  {
   "cell_type": "markdown",
   "id": "b7b6b2e7",
   "metadata": {},
   "source": [
    "# Lendo dados"
   ]
  },
  {
   "cell_type": "code",
   "execution_count": 2,
   "id": "430d8ec3",
   "metadata": {},
   "outputs": [],
   "source": [
    "df = pd.read_csv('../data/processed/sample_df_processed.csv')\n",
    "df['speed'] = df['speed'].astype('str')\n",
    "df['feed'] = df['feed'].astype('str')"
   ]
  },
  {
   "cell_type": "code",
   "execution_count": 3,
   "id": "eaa7fec1",
   "metadata": {},
   "outputs": [
    {
     "data": {
      "text/plain": [
       "vibration_x    float64\n",
       "vibration_y    float64\n",
       "vibration_z    float64\n",
       "machine         object\n",
       "operation       object\n",
       "description     object\n",
       "speed           object\n",
       "feed            object\n",
       "duration         int64\n",
       "result           int64\n",
       "dtype: object"
      ]
     },
     "execution_count": 3,
     "metadata": {},
     "output_type": "execute_result"
    }
   ],
   "source": [
    "df.dtypes"
   ]
  },
  {
   "cell_type": "markdown",
   "id": "1c8ba804",
   "metadata": {},
   "source": [
    "# Separando dados em treino e teste"
   ]
  },
  {
   "cell_type": "code",
   "execution_count": 4,
   "id": "f8a3bb89",
   "metadata": {},
   "outputs": [],
   "source": [
    "X = df.drop(columns=[\"result\"])  \n",
    "y = df[\"result\"]\n",
    "\n",
    "# Separando o dataset em treino, validação e teste mantendo a proporção das classes e com uma divisão de 20% para teste e 80% para treino e validação (onde se divide 25% do treino para validação)\n",
    "X_temp, X_test, y_temp, y_test = train_test_split(\n",
    "    X, y, test_size=0.2, stratify=y, random_state=42\n",
    ")\n",
    "\n",
    "X_train, X_val, y_train, y_val = train_test_split(\n",
    "    X_temp, y_temp, test_size=0.25, stratify=y_temp, random_state=42\n",
    ")"
   ]
  },
  {
   "cell_type": "markdown",
   "id": "fe6e8a7e",
   "metadata": {},
   "source": [
    "# Pre-processamento dos dados "
   ]
  },
  {
   "cell_type": "code",
   "execution_count": 5,
   "id": "e8a87b84",
   "metadata": {},
   "outputs": [],
   "source": [
    "# DIVISÃO ENTRE COLUNAS CATEGORICAS E NUMERICAS\n",
    "categorical_cols = X.select_dtypes(include=['object']).columns\n",
    "numeric_cols = X.select_dtypes(include=['int64', 'float64']).columns"
   ]
  },
  {
   "cell_type": "code",
   "execution_count": 6,
   "id": "5dcc5c54",
   "metadata": {},
   "outputs": [],
   "source": [
    "# NORMALIZAR COLUNAS NUMERICAS\n",
    "numeric_transformer = Pipeline(steps=[\n",
    "    ('scaler', StandardScaler())\n",
    "])\n",
    "\n",
    "# CODIFICAR COLUNAS CATEGORICAS\n",
    "categorical_transformer = Pipeline(steps=[\n",
    "    ('encoder', OneHotEncoder(handle_unknown='ignore'))\n",
    "])"
   ]
  },
  {
   "cell_type": "code",
   "execution_count": 7,
   "id": "ce4fc66d",
   "metadata": {},
   "outputs": [],
   "source": [
    "# PRE-PROCESSAMENTO DOS DADOS \n",
    "preprocessor = ColumnTransformer(\n",
    "    transformers=[\n",
    "        ('num', numeric_transformer, numeric_cols),\n",
    "        ('cat', categorical_transformer, categorical_cols)\n",
    "    ]\n",
    ")"
   ]
  },
  {
   "cell_type": "code",
   "execution_count": 8,
   "id": "f87764b0",
   "metadata": {},
   "outputs": [],
   "source": [
    "pipeline = Pipeline(steps=[\n",
    "    ('preprocessor', preprocessor),\n",
    "    ('classifier', DecisionTreeClassifier(class_weight='balanced', random_state=42))\n",
    "])\n",
    "\n",
    "pipeline.fit(X_train, y_train)\n",
    "y_pred = pipeline.predict(X_test)"
   ]
  },
  {
   "cell_type": "code",
   "execution_count": 9,
   "id": "468728e4",
   "metadata": {},
   "outputs": [
    {
     "name": "stdout",
     "output_type": "stream",
     "text": [
      "              precision    recall  f1-score   support\n",
      "\n",
      "           0       0.97      0.98      0.97    345716\n",
      "           1       0.20      0.19      0.20     11130\n",
      "\n",
      "    accuracy                           0.95    356846\n",
      "   macro avg       0.59      0.58      0.59    356846\n",
      "weighted avg       0.95      0.95      0.95    356846\n",
      "\n"
     ]
    }
   ],
   "source": [
    "# Verificando a performance do modelo antes de otimização\n",
    "y_val_pred = pipeline.predict(X_val)\n",
    "print(classification_report(y_val, y_val_pred))"
   ]
  },
  {
   "cell_type": "code",
   "execution_count": 10,
   "id": "159d2829",
   "metadata": {},
   "outputs": [
    {
     "name": "stdout",
     "output_type": "stream",
     "text": [
      "Melhores parâmetros: {'classifier__criterion': 'gini', 'classifier__max_depth': None, 'classifier__min_samples_split': 2}\n"
     ]
    }
   ],
   "source": [
    "param_grid = {\n",
    "    'classifier__max_depth': [5, 10, 20, None],\n",
    "    'classifier__min_samples_split': [2, 5, 10],\n",
    "    'classifier__criterion': ['gini', 'entropy']\n",
    "}\n",
    "\n",
    "grid = GridSearchCV(pipeline, param_grid, cv=5)\n",
    "grid.fit(X_train, y_train)\n",
    "\n",
    "\n",
    "print(\"Melhores parâmetros:\", grid.best_params_)\n",
    "best_model = grid.best_estimator_"
   ]
  },
  {
   "cell_type": "code",
   "execution_count": 25,
   "id": "1a8a8329",
   "metadata": {},
   "outputs": [],
   "source": [
    "best_model = grid.best_estimator_\n",
    "y_pred = best_model.predict(X_test)\n"
   ]
  },
  {
   "cell_type": "markdown",
   "id": "c5fddb1d",
   "metadata": {},
   "source": [
    "## Criando matriz de confusão"
   ]
  },
  {
   "cell_type": "code",
   "execution_count": 26,
   "id": "fec8423e",
   "metadata": {},
   "outputs": [
    {
     "data": {
      "image/png": "[encoded data removed]",
      "text/plain": [
       "<Figure size 600x400 with 1 Axes>"
      ]
     },
     "metadata": {},
     "output_type": "display_data"
    }
   ],
   "source": [
    "cm = confusion_matrix(y_test, y_pred)\n",
    "labels = [\"OK (0)\", \"NOK (1)\"]\n",
    "\n",
    "fig, ax = plt.subplots(figsize=(6, 4))\n",
    "\n",
    "# Plotar manualmente com cores nos quadrantes\n",
    "for i in range(cm.shape[0]):\n",
    "    for j in range(cm.shape[1]):\n",
    "        value = cm[i, j]\n",
    "        color = '#228B22' if i == j else '#B22222'\n",
    "        ax.add_patch(plt.Rectangle((j, i), 1, 1, fill=True, facecolor=color, edgecolor='white', linewidth=1))\n",
    "        ax.text(j + 0.5, i + 0.5, str(value), ha='center', va='center', color='white', fontsize=20)\n",
    "\n",
    "# Eixos e rótulos\n",
    "ax.set_xticks([0.5, 1.5])\n",
    "ax.set_xticklabels(labels)\n",
    "ax.set_yticks([0.5, 1.5])\n",
    "ax.set_yticklabels(labels)\n",
    "ax.set_xlabel(\"Predito\")\n",
    "ax.set_ylabel(\"Real\")\n",
    "ax.set_title(\"Matriz de Confusão\")\n",
    "\n",
    "# Ajustes de grade\n",
    "ax.set_xlim(0, 2)\n",
    "ax.set_ylim(0, 2)\n",
    "ax.invert_yaxis()\n",
    "plt.tight_layout()\n",
    "plt.show()"
   ]
  },
  {
   "cell_type": "markdown",
   "id": "1e8c5132",
   "metadata": {},
   "source": [
    "## Avaliando métricas"
   ]
  },
  {
   "cell_type": "code",
   "execution_count": 27,
   "id": "bd398038",
   "metadata": {},
   "outputs": [
    {
     "name": "stdout",
     "output_type": "stream",
     "text": [
      "         precision recall f1-score\n",
      "0            97.41  97.56    97.49\n",
      "1            20.45  19.46    19.94\n",
      "accuracy     95.13  95.13    95.13\n"
     ]
    }
   ],
   "source": [
    "report = classification_report(y_test, y_pred, output_dict=True, zero_division=0)\n",
    "report_df = pd.DataFrame(report).transpose()\n",
    "report_df = report_df.drop(columns=['support'])\n",
    "report_df_formatted = report_df.head(3).map(lambda x: f\"{x * 100:.2f}\")\n",
    "print(report_df_formatted)"
   ]
  },
  {
   "cell_type": "code",
   "execution_count": 17,
   "id": "bb5cb090",
   "metadata": {},
   "outputs": [
    {
     "data": {
      "image/png": "[encoded data removed]",
      "text/plain": [
       "<Figure size 640x480 with 1 Axes>"
      ]
     },
     "metadata": {},
     "output_type": "display_data"
    },
    {
     "name": "stdout",
     "output_type": "stream",
     "text": [
      "AUC: 0.59\n"
     ]
    }
   ],
   "source": [
    "y_proba = pipeline.predict_proba(X_test)[:, 1]\n",
    "auc = roc_auc_score(y_test, y_proba)\n",
    "\n",
    "\n",
    "fpr, tpr, thresholds = roc_curve(y_test, y_proba)\n",
    "plt.plot(fpr, tpr)\n",
    "plt.xlabel(\"FPR\")\n",
    "plt.ylabel(\"TPR (Recall)\")\n",
    "plt.title(\"ROC Curve\")\n",
    "plt.show()\n",
    "print(f\"AUC: {auc:.2f}\")\n"
   ]
  },
  {
   "cell_type": "markdown",
   "id": "2a644a50",
   "metadata": {},
   "source": [
    "Pela curva ROC observamos:\n",
    "1. Curva muito próxima da diagonal de aleatoriedade o que mostra não descriminar valores\n",
    "2. Valor AUC maior que o de aleatoriedade (0,50) mas muito próximo disso."
   ]
  },
  {
   "cell_type": "markdown",
   "id": "52202639",
   "metadata": {},
   "source": [
    "# Otimizar resultado a partir da curva ROC"
   ]
  },
  {
   "cell_type": "markdown",
   "id": "dbe29dd0",
   "metadata": {},
   "source": [
    "## Otimização F1-score"
   ]
  },
  {
   "cell_type": "code",
   "execution_count": 28,
   "id": "7f2de4d2",
   "metadata": {},
   "outputs": [
    {
     "name": "stdout",
     "output_type": "stream",
     "text": [
      "Threshold ideal (F1-score máximo): 0.9688\n"
     ]
    }
   ],
   "source": [
    "precision, recall, thresholds_pr = precision_recall_curve(y_test, y_proba)\n",
    "f1 = 2 * (precision * recall) / (precision + recall + 1e-8)\n",
    "optimal_threshold_f1 = thresholds_pr[np.argmax(f1)]\n",
    "\n",
    "print(f\"Threshold ideal (F1-score máximo): {optimal_threshold_f1:.4f}\")"
   ]
  },
  {
   "cell_type": "code",
   "execution_count": 29,
   "id": "9666f188",
   "metadata": {},
   "outputs": [
    {
     "data": {
      "image/png": "[encoded data removed]",
      "text/plain": [
       "<Figure size 600x400 with 1 Axes>"
      ]
     },
     "metadata": {},
     "output_type": "display_data"
    }
   ],
   "source": [
    "y_pred = (y_proba >= optimal_threshold_f1).astype(int)\n",
    "\n",
    "cm = confusion_matrix(y_test, y_pred)\n",
    "labels = [\"OK (0)\", \"NOK (1)\"]\n",
    "\n",
    "fig, ax = plt.subplots(figsize=(6, 4))\n",
    "\n",
    "# Plotar manualmente com cores nos quadrantes\n",
    "for i in range(cm.shape[0]):\n",
    "    for j in range(cm.shape[1]):\n",
    "        value = cm[i, j]\n",
    "        color = '#228B22' if i == j else '#B22222'\n",
    "        ax.add_patch(plt.Rectangle((j, i), 1, 1, fill=True, facecolor=color, edgecolor='white', linewidth=3))\n",
    "        ax.text(j + 0.5, i + 0.5, str(value), ha='center', va='center', color='white', fontsize=20)\n",
    "\n",
    "# Eixos e rótulos\n",
    "ax.set_xticks([0.5, 1.5])\n",
    "ax.set_xticklabels(labels)\n",
    "ax.set_yticks([0.5, 1.5])\n",
    "ax.set_yticklabels(labels)\n",
    "ax.set_xlabel(\"Predito\")\n",
    "ax.set_ylabel(\"Real\")\n",
    "ax.set_title(\"Matriz de Confusão\")\n",
    "\n",
    "# Ajustes de grade\n",
    "ax.set_xlim(0, 2)\n",
    "ax.set_ylim(0, 2)\n",
    "ax.invert_yaxis()\n",
    "plt.tight_layout()\n",
    "plt.show()"
   ]
  },
  {
   "cell_type": "code",
   "execution_count": 30,
   "id": "c014ddb2",
   "metadata": {},
   "outputs": [
    {
     "name": "stdout",
     "output_type": "stream",
     "text": [
      "         precision recall f1-score\n",
      "0            97.41  97.56    97.49\n",
      "1            20.45  19.46    19.94\n",
      "accuracy     95.13  95.13    95.13\n"
     ]
    }
   ],
   "source": [
    "report = classification_report(y_test, y_pred, output_dict=True, zero_division=0)\n",
    "report_df = pd.DataFrame(report).transpose()\n",
    "report_df = report_df.drop(columns=['support'])\n",
    "report_df_formatted = report_df.head(3).map(lambda x: f\"{x * 100:.2f}\")\n",
    "print(report_df_formatted)"
   ]
  },
  {
   "cell_type": "markdown",
   "id": "57884df3",
   "metadata": {},
   "source": [
    "1. Pelo baixo valor de AUC tem um enviesamento muito grande que até mesmo alterando o ponto de marcação os resultados são similar"
   ]
  },
  {
   "cell_type": "markdown",
   "id": "9084ac61",
   "metadata": {},
   "source": [
    "## Otimização Youden"
   ]
  },
  {
   "cell_type": "code",
   "execution_count": 22,
   "id": "9308aa33",
   "metadata": {},
   "outputs": [
    {
     "name": "stdout",
     "output_type": "stream",
     "text": [
      "Threshold ideal (Youden): 0.9688\n"
     ]
    }
   ],
   "source": [
    "fpr, tpr, thresholds = roc_curve(y_test, y_proba)\n",
    "youden_index = tpr - fpr\n",
    "optimal_threshold = thresholds[np.argmax(youden_index)]\n",
    "\n",
    "print(f\"Threshold ideal (Youden): {optimal_threshold:.4f}\")\n"
   ]
  },
  {
   "cell_type": "code",
   "execution_count": 23,
   "id": "3e075e7a",
   "metadata": {},
   "outputs": [
    {
     "data": {
      "image/png": "[encoded data removed]",
      "text/plain": [
       "<Figure size 600x400 with 1 Axes>"
      ]
     },
     "metadata": {},
     "output_type": "display_data"
    }
   ],
   "source": [
    "y_pred = (y_proba >= optimal_threshold).astype(int)\n",
    "\n",
    "cm = confusion_matrix(y_test, y_pred)\n",
    "labels = [\"OK (0)\", \"NOK (1)\"]\n",
    "\n",
    "fig, ax = plt.subplots(figsize=(6, 4))\n",
    "\n",
    "# Plotar manualmente com cores nos quadrantes\n",
    "for i in range(cm.shape[0]):\n",
    "    for j in range(cm.shape[1]):\n",
    "        value = cm[i, j]\n",
    "        color = '#228B22' if i == j else '#B22222'\n",
    "        ax.add_patch(plt.Rectangle((j, i), 1, 1, fill=True, facecolor=color, edgecolor='white', linewidth=3))\n",
    "        ax.text(j + 0.5, i + 0.5, str(value), ha='center', va='center', color='white', fontsize=20)\n",
    "\n",
    "# Eixos e rótulos\n",
    "ax.set_xticks([0.5, 1.5])\n",
    "ax.set_xticklabels(labels)\n",
    "ax.set_yticks([0.5, 1.5])\n",
    "ax.set_yticklabels(labels)\n",
    "ax.set_xlabel(\"Predito\")\n",
    "ax.set_ylabel(\"Real\")\n",
    "ax.set_title(\"Matriz de Confusão\")\n",
    "\n",
    "# Ajustes de grade\n",
    "ax.set_xlim(0, 2)\n",
    "ax.set_ylim(0, 2)\n",
    "ax.invert_yaxis()\n",
    "plt.tight_layout()\n",
    "plt.show()"
   ]
  },
  {
   "cell_type": "code",
   "execution_count": 24,
   "id": "7d750ae4",
   "metadata": {},
   "outputs": [
    {
     "name": "stdout",
     "output_type": "stream",
     "text": [
      "         precision recall f1-score\n",
      "0            97.41  97.56    97.49\n",
      "1            20.45  19.46    19.94\n",
      "accuracy     95.13  95.13    95.13\n"
     ]
    }
   ],
   "source": [
    "report = classification_report(y_test, y_pred, output_dict=True, zero_division=0)\n",
    "report_df = pd.DataFrame(report).transpose()\n",
    "report_df = report_df.drop(columns=['support'])\n",
    "report_df_formatted = report_df.head(3).map(lambda x: f\"{x * 100:.2f}\")\n",
    "print(report_df_formatted)"
   ]
  },
  {
   "cell_type": "markdown",
   "id": "5bae9152",
   "metadata": {},
   "source": [
    "1. Pelo baixo valor de AUC tem um enviesamento muito grande que até mesmo alterando o ponto de marcação os resultados são similar"
   ]
  }
 ],
 "metadata": {
  "kernelspec": {
   "display_name": "venv",
   "language": "python",
   "name": "python3"
  },
  "language_info": {
   "codemirror_mode": {
    "name": "ipython",
    "version": 3
   },
   "file_extension": ".py",
   "mimetype": "text/x-python",
   "name": "python",
   "nbconvert_exporter": "python",
   "pygments_lexer": "ipython3",
   "version": "3.13.2"
  }
 },
 "nbformat": 4,
 "nbformat_minor": 5
}
