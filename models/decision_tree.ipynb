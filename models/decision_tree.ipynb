{
 "cells": [
  {
   "cell_type": "markdown",
   "id": "6073928c",
   "metadata": {},
   "source": [
    "# Importando bibliotecas"
   ]
  },
  {
   "cell_type": "code",
   "execution_count": null,
   "id": "9733ccf4",
   "metadata": {},
   "outputs": [],
   "source": [
    "import matplotlib.pyplot as plt\n",
    "import pandas as pd\n",
    "import numpy as np\n",
    "import seaborn as sns\n",
    "from sklearn.compose import ColumnTransformer\n",
    "from sklearn.tree import DecisionTreeClassifier\n",
    "from sklearn.tree import plot_tree\n",
    "from sklearn.model_selection import train_test_split, GridSearchCV\n",
    "from sklearn.pipeline import Pipeline\n",
    "from sklearn.preprocessing import StandardScaler, OneHotEncoder\n",
    "from sklearn.metrics import classification_report, confusion_matrix, roc_curve, roc_auc_score"
   ]
  },
  {
   "cell_type": "markdown",
   "id": "b7b6b2e7",
   "metadata": {},
   "source": [
    "# Lendo dados"
   ]
  },
  {
   "cell_type": "code",
   "execution_count": 6,
   "id": "430d8ec3",
   "metadata": {},
   "outputs": [],
   "source": [
    "df = pd.read_csv('../data/processed/sample_df_processed.csv')\n",
    "df['speed'] = df['speed'].astype('str')\n",
    "df['feed'] = df['feed'].astype('str')"
   ]
  },
  {
   "cell_type": "code",
   "execution_count": 7,
   "id": "eaa7fec1",
   "metadata": {},
   "outputs": [
    {
     "data": {
      "text/plain": [
       "vibration_x    float64\n",
       "vibration_y    float64\n",
       "vibration_z    float64\n",
       "machine         object\n",
       "operation       object\n",
       "description     object\n",
       "speed           object\n",
       "feed            object\n",
       "duration         int64\n",
       "result           int64\n",
       "dtype: object"
      ]
     },
     "execution_count": 7,
     "metadata": {},
     "output_type": "execute_result"
    }
   ],
   "source": [
    "df.dtypes"
   ]
  },
  {
   "cell_type": "markdown",
   "id": "1c8ba804",
   "metadata": {},
   "source": [
    "# Separando dados em treino e teste"
   ]
  },
  {
   "cell_type": "code",
   "execution_count": null,
   "id": "f8a3bb89",
   "metadata": {},
   "outputs": [],
   "source": [
    "X = df.drop(columns=[\"result\"])  \n",
    "y = df[\"result\"]\n",
    "\n",
    "# Separando o dataset em treino, validação e teste mantendo a proporção das classes e com uma divisão de 20% para teste e 80% para treino e validação (onde se divide 25% do treino para validação)\n",
    "X_temp, X_test, y_temp, y_test = train_test_split(\n",
    "    X, y, test_size=0.2, stratify=y, random_state=42\n",
    ")\n",
    "\n",
    "X_train, X_val, y_train, y_val = train_test_split(\n",
    "    X_temp, y_temp, test_size=0.25, stratify=y_temp, random_state=42\n",
    ")"
   ]
  },
  {
   "cell_type": "markdown",
   "id": "fe6e8a7e",
   "metadata": {},
   "source": [
    "# Pre-processamento dos dados "
   ]
  },
  {
   "cell_type": "code",
   "execution_count": 9,
   "id": "e8a87b84",
   "metadata": {},
   "outputs": [],
   "source": [
    "# DIVISÃO ENTRE COLUNAS CATEGORICAS E NUMERICAS\n",
    "categorical_cols = X.select_dtypes(include=['object']).columns\n",
    "numeric_cols = X.select_dtypes(include=['int64', 'float64']).columns"
   ]
  },
  {
   "cell_type": "code",
   "execution_count": 10,
   "id": "5dcc5c54",
   "metadata": {},
   "outputs": [],
   "source": [
    "# NORMALIZAR COLUNAS NUMERICAS\n",
    "numeric_transformer = Pipeline(steps=[\n",
    "    ('scaler', StandardScaler())\n",
    "])\n",
    "\n",
    "# CODIFICAR COLUNAS CATEGORICAS\n",
    "categorical_transformer = Pipeline(steps=[\n",
    "    ('encoder', OneHotEncoder(handle_unknown='ignore'))\n",
    "])"
   ]
  },
  {
   "cell_type": "code",
   "execution_count": 11,
   "id": "ce4fc66d",
   "metadata": {},
   "outputs": [],
   "source": [
    "# PRE-PROCESSAMENTO DOS DADOS \n",
    "preprocessor = ColumnTransformer(\n",
    "    transformers=[\n",
    "        ('num', numeric_transformer, numeric_cols),\n",
    "        ('cat', categorical_transformer, categorical_cols)\n",
    "    ]\n",
    ")"
   ]
  },
  {
   "cell_type": "code",
   "execution_count": 12,
   "id": "f87764b0",
   "metadata": {},
   "outputs": [],
   "source": [
    "pipeline = Pipeline(steps=[\n",
    "    ('preprocessor', preprocessor),\n",
    "    ('classifier', DecisionTreeClassifier(class_weight='balanced', random_state=42))\n",
    "])\n",
    "\n",
    "pipeline.fit(X_train, y_train)\n",
    "y_pred = pipeline.predict(X_test)"
   ]
  },
  {
   "cell_type": "code",
   "execution_count": 13,
   "id": "468728e4",
   "metadata": {},
   "outputs": [
    {
     "name": "stdout",
     "output_type": "stream",
     "text": [
      "              precision    recall  f1-score   support\n",
      "\n",
      "           0       0.97      0.98      0.97    345716\n",
      "           1       0.20      0.19      0.20     11130\n",
      "\n",
      "    accuracy                           0.95    356846\n",
      "   macro avg       0.59      0.58      0.59    356846\n",
      "weighted avg       0.95      0.95      0.95    356846\n",
      "\n"
     ]
    }
   ],
   "source": [
    "# Verificando a performance do modelo antes de otimização\n",
    "y_val_pred = pipeline.predict(X_val)\n",
    "print(classification_report(y_val, y_val_pred))"
   ]
  },
  {
   "cell_type": "code",
   "execution_count": 19,
   "id": "159d2829",
   "metadata": {},
   "outputs": [
    {
     "name": "stdout",
     "output_type": "stream",
     "text": [
      "Melhores parâmetros: {'classifier__criterion': 'gini', 'classifier__max_depth': None, 'classifier__min_samples_split': 2}\n"
     ]
    }
   ],
   "source": [
    "param_grid = {\n",
    "    'classifier__max_depth': [5, 10, 20, None],\n",
    "    'classifier__min_samples_split': [2, 5, 10],\n",
    "    'classifier__criterion': ['gini', 'entropy']\n",
    "}\n",
    "\n",
    "grid = GridSearchCV(pipeline, param_grid, cv=5)\n",
    "grid.fit(X_train, y_train)\n",
    "\n",
    "\n",
    "print(\"Melhores parâmetros:\", grid.best_params_)\n",
    "best_model = grid.best_estimator_"
   ]
  },
  {
   "cell_type": "code",
   "execution_count": 20,
   "id": "1a8a8329",
   "metadata": {},
   "outputs": [],
   "source": [
    "best_model = grid.best_estimator_\n",
    "y_pred = best_model.predict(X_test)\n"
   ]
  },
  {
   "cell_type": "markdown",
   "id": "c5fddb1d",
   "metadata": {},
   "source": [
    "## Criando matriz de confusão"
   ]
  },
  {
   "cell_type": "code",
   "execution_count": 21,
   "id": "fec8423e",
   "metadata": {},
   "outputs": [
    {
     "data": {
      "image/png": "[encoded data removed]",
      "text/plain": [
       "<Figure size 600x400 with 2 Axes>"
      ]
     },
     "metadata": {},
     "output_type": "display_data"
    }
   ],
   "source": [
    "cm = confusion_matrix(y_test, y_pred)\n",
    "\n",
    "plt.figure(figsize=(6,4))\n",
    "sns.heatmap(\n",
    "    cm,\n",
    "    annot=True,\n",
    "    fmt=\"d\",\n",
    "    cmap=\"RdYlGn_r\",\n",
    "    linewidths=0.5,\n",
    "    xticklabels=[\"OK (0)\", \"NOK (1)\"],\n",
    "    yticklabels=[\"OK (0)\", \"NOK (1)\"]\n",
    ")\n",
    "plt.xlabel(\"Predito\")\n",
    "plt.ylabel(\"Real\")\n",
    "plt.title(\"Matriz de Confusão\")\n",
    "plt.tight_layout()\n",
    "plt.show()"
   ]
  },
  {
   "cell_type": "code",
   "execution_count": null,
   "id": "407ae804",
   "metadata": {},
   "outputs": [],
   "source": [
    "# Acessar o pré-processador do pipeline\n",
    "preprocessor = best_model.named_steps['preprocessor']\n",
    "\n",
    "# Obter nomes das colunas numéricas\n",
    "num_features = preprocessor.transformers_[0][2]\n",
    "\n",
    "# Obter nomes das colunas categóricas codificadas\n",
    "cat_encoder = preprocessor.transformers_[1][1].named_steps['encoder']\n",
    "cat_features = cat_encoder.get_feature_names_out(preprocessor.transformers_[1][2])\n",
    "\n",
    "# Combinar tudo\n",
    "all_features = np.concatenate([num_features, cat_features])\n",
    "\n",
    "\n",
    "tree = best_model.named_steps['classifier']\n",
    "\n",
    "plt.figure(figsize=(20, 10))\n",
    "plot_tree(tree, filled=True, feature_names=all_features, class_names=['OK', 'NOK'])\n",
    "plt.show()"
   ]
  },
  {
   "cell_type": "code",
   "execution_count": null,
   "id": "28675d7e",
   "metadata": {},
   "outputs": [],
   "source": [
    "## Avaliando métricas"
   ]
  },
  {
   "cell_type": "code",
   "execution_count": null,
   "id": "bd398038",
   "metadata": {},
   "outputs": [],
   "source": [
    "report = classification_report(y_test, y_pred, output_dict=True, zero_division=0)\n",
    "report_df = pd.DataFrame(report).transpose()\n",
    "report_df.head(3)"
   ]
  },
  {
   "cell_type": "code",
   "execution_count": null,
   "id": "bb5cb090",
   "metadata": {},
   "outputs": [],
   "source": [
    "y_proba = pipeline.predict_proba(X_test)[:, 1]\n",
    "auc = roc_auc_score(y_test, y_proba)\n",
    "\n",
    "\n",
    "fpr, tpr, thresholds = roc_curve(y_test, y_proba)\n",
    "plt.plot(fpr, tpr)\n",
    "plt.xlabel(\"FPR\")\n",
    "plt.ylabel(\"TPR (Recall)\")\n",
    "plt.title(\"ROC Curve\")\n",
    "plt.show()\n",
    "print(f\"AUC: {auc:.2f}\")\n"
   ]
  },
  {
   "cell_type": "markdown",
   "id": "9e2c0ec9",
   "metadata": {},
   "source": [
    "# Importância das features"
   ]
  },
  {
   "cell_type": "code",
   "execution_count": null,
   "id": "e3baea99",
   "metadata": {},
   "outputs": [],
   "source": [
    "model = pipeline.named_steps['classifier']\n",
    "\n",
    "preprocessor = pipeline.named_steps['preprocessor']\n",
    "\n",
    "def get_feature_names(preprocessor):\n",
    "    feature_names = []\n",
    "\n",
    "    for name, transformer, cols in preprocessor.transformers_:\n",
    "        if name == 'remainder':\n",
    "            continue\n",
    "        if hasattr(transformer, 'get_feature_names_out'):\n",
    "            names = transformer.get_feature_names_out(cols)\n",
    "        else:\n",
    "            names = cols\n",
    "        feature_names.extend(names)\n",
    "\n",
    "    return feature_names\n",
    "\n",
    "feature_names = get_feature_names(preprocessor)\n",
    "\n",
    "coefficients = model.coef_[0]\n",
    "\n",
    "feature_importance = pd.Series(coefficients, index=feature_names).sort_values(key=abs, ascending=False)\n",
    "\n",
    "plt.figure(figsize=(14, 6))\n",
    "feature_importance.head(15).plot(kind='bar')  \n",
    "plt.title(\"Importância das Variáveis - Regressão Logística\")\n",
    "plt.ylabel(\"Coeficiente\")\n",
    "plt.tight_layout()\n",
    "plt.show()"
   ]
  }
 ],
 "metadata": {
  "kernelspec": {
   "display_name": "venv",
   "language": "python",
   "name": "python3"
  },
  "language_info": {
   "codemirror_mode": {
    "name": "ipython",
    "version": 3
   },
   "file_extension": ".py",
   "mimetype": "text/x-python",
   "name": "python",
   "nbconvert_exporter": "python",
   "pygments_lexer": "ipython3",
   "version": "3.13.2"
  }
 },
 "nbformat": 4,
 "nbformat_minor": 5
}
