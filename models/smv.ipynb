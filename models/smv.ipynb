{
 "cells": [
  {
   "cell_type": "markdown",
   "id": "39c7b49d",
   "metadata": {},
   "source": [
    "# Importando bibliotecas"
   ]
  },
  {
   "cell_type": "code",
   "execution_count": null,
   "id": "52bdfeb6",
   "metadata": {},
   "outputs": [],
   "source": [
    "import matplotlib.pyplot as plt\n",
    "import numpy as np\n",
    "import pandas as pd\n",
    "import seaborn as sns\n",
    "from sklearn.compose import ColumnTransformer\n",
    "from sklearn.svm import SVC\n",
    "from sklearn.metrics import classification_report, confusion_matrix, roc_curve, roc_auc_score\n",
    "from sklearn.model_selection import train_test_split\n",
    "from sklearn.pipeline import Pipeline\n",
    "from sklearn.preprocessing import StandardScaler, OneHotEncoder\n"
   ]
  },
  {
   "cell_type": "markdown",
   "id": "2bbc8c46",
   "metadata": {},
   "source": [
    "# Lendo dados"
   ]
  },
  {
   "cell_type": "code",
   "execution_count": 18,
   "id": "9f41939e",
   "metadata": {},
   "outputs": [],
   "source": [
    "df = pd.read_csv('../data/processed/sample_df_processed.csv')\n",
    "df['speed'] = df['speed'].astype('str')\n",
    "df['feed'] = df['feed'].astype('str')"
   ]
  },
  {
   "cell_type": "code",
   "execution_count": 19,
   "id": "933b5a4d",
   "metadata": {},
   "outputs": [
    {
     "data": {
      "text/plain": [
       "vibration_x    float64\n",
       "vibration_y    float64\n",
       "vibration_z    float64\n",
       "machine         object\n",
       "operation       object\n",
       "description     object\n",
       "speed           object\n",
       "feed            object\n",
       "duration         int64\n",
       "result           int64\n",
       "dtype: object"
      ]
     },
     "execution_count": 19,
     "metadata": {},
     "output_type": "execute_result"
    }
   ],
   "source": [
    "df.dtypes"
   ]
  },
  {
   "cell_type": "markdown",
   "id": "8a7c15e8",
   "metadata": {},
   "source": [
    "# Separando dados em treino e teste"
   ]
  },
  {
   "cell_type": "code",
   "execution_count": 27,
   "id": "7ec50aae",
   "metadata": {},
   "outputs": [],
   "source": [
    "df_reduced, _ = train_test_split(\n",
    "    df,\n",
    "    train_size=50000,\n",
    "    stratify=df[\"result\"],\n",
    "    random_state=42\n",
    ")\n",
    "# Reduzindo o dataset para conseguir executar o modelo selecionado\n",
    "\n",
    "X = df_reduced.drop(columns=[\"result\"])\n",
    "y = df_reduced[\"result\"]\n",
    "\n",
    "# Separando o dataset em treino e teste mantendo a proporção das classes e com uma divisão de 70% para treino e 30% para teste\n",
    "X_train, X_test, y_train, y_test = train_test_split(\n",
    "    X, y, test_size=0.3, stratify=y, random_state=42\n",
    ")"
   ]
  },
  {
   "cell_type": "markdown",
   "id": "eaa2623a",
   "metadata": {},
   "source": [
    "# Pre-processamento dos dados"
   ]
  },
  {
   "cell_type": "code",
   "execution_count": 28,
   "id": "a213312e",
   "metadata": {},
   "outputs": [],
   "source": [
    "# DIVISÃO ENTRE COLUNAS CATEGORICAS E NUMERICAS\n",
    "categorical_cols = X.select_dtypes(include=['object']).columns\n",
    "numeric_cols = X.select_dtypes(include=['int64', 'float64']).columns"
   ]
  },
  {
   "cell_type": "code",
   "execution_count": 29,
   "id": "a166be0e",
   "metadata": {},
   "outputs": [],
   "source": [
    "# NORMALIZAR COLUNAS NUMERICAS\n",
    "numeric_transformer = Pipeline(steps=[\n",
    "    ('scaler', StandardScaler())\n",
    "])\n",
    "\n",
    "# CODIFICAR COLUNAS CATEGORICAS\n",
    "categorical_transformer = Pipeline(steps=[\n",
    "    ('encoder', OneHotEncoder(handle_unknown='ignore'))\n",
    "])"
   ]
  },
  {
   "cell_type": "code",
   "execution_count": 30,
   "id": "2df88a6f",
   "metadata": {},
   "outputs": [],
   "source": [
    "# PRE-PROCESSAMENTO DOS DADOS \n",
    "preprocessor = ColumnTransformer(\n",
    "    transformers=[\n",
    "        ('num', numeric_transformer, numeric_cols),\n",
    "        ('cat', categorical_transformer, categorical_cols)\n",
    "    ]\n",
    ")"
   ]
  },
  {
   "cell_type": "markdown",
   "id": "0557547a",
   "metadata": {},
   "source": [
    "# Criando pipeline utilizando preprocessamento dos dados e utilizando o algoritmo SMV"
   ]
  },
  {
   "cell_type": "code",
   "execution_count": 88,
   "id": "e375f63e",
   "metadata": {},
   "outputs": [],
   "source": [
    "# CRIANDO O PIPELINE COM OS DADOS PRE-PROCESSADOS E O CLASSIFICADOR\n",
    "\n",
    "pipeline = Pipeline(steps=[\n",
    "    ('preprocessor', preprocessor),\n",
    "    ('classifier', SVC(kernel='rbf', C=1.0, gamma='scale', probability=True, class_weight='balanced'))\n",
    "])\n",
    "\n",
    "pipeline.fit(X_train, y_train)\n",
    "y_pred = pipeline.predict(X_test)"
   ]
  },
  {
   "cell_type": "markdown",
   "id": "56dd2808",
   "metadata": {},
   "source": [
    "## Criando matriz de confusão"
   ]
  },
  {
   "cell_type": "code",
   "execution_count": 89,
   "id": "3dbf39ef",
   "metadata": {},
   "outputs": [
    {
     "data": {
      "image/png": "[encoded data removed]",
      "text/plain": [
       "<Figure size 600x400 with 1 Axes>"
      ]
     },
     "metadata": {},
     "output_type": "display_data"
    }
   ],
   "source": [
    "cm = confusion_matrix(y_test, y_pred)\n",
    "labels = [\"OK (0)\", \"NOK (1)\"]\n",
    "\n",
    "fig, ax = plt.subplots(figsize=(6, 4))\n",
    "\n",
    "for i in range(cm.shape[0]):\n",
    "    for j in range(cm.shape[1]):\n",
    "        value = cm[i, j]\n",
    "        color = '#228B22' if i == j else '#B22222'\n",
    "        ax.add_patch(plt.Rectangle((j, i), 1, 1, fill=True, facecolor=color, edgecolor='white', linewidth=1))\n",
    "        ax.text(j + 0.5, i + 0.5, str(value), ha='center', va='center', color='white', fontsize=20)\n",
    "\n",
    "ax.set_xticks([0.5, 1.5])\n",
    "ax.set_xticklabels(labels)\n",
    "ax.set_yticks([0.5, 1.5])\n",
    "ax.set_yticklabels(labels)\n",
    "ax.set_xlabel(\"Predito\")\n",
    "ax.set_ylabel(\"Real\")\n",
    "ax.set_title(\"Matriz de Confusão\")\n",
    "\n",
    "ax.set_xlim(0, 2)\n",
    "ax.set_ylim(0, 2)\n",
    "ax.invert_yaxis()\n",
    "plt.tight_layout()\n",
    "plt.show()"
   ]
  },
  {
   "cell_type": "markdown",
   "id": "0a4df4f5",
   "metadata": {},
   "source": [
    "1. Observa-se novamente o modelo classificando corretamente para casos OK\n",
    "2. Para classe NOK com o balanceamento também houve um resultado satisfatorio."
   ]
  },
  {
   "cell_type": "markdown",
   "id": "ec4fc701",
   "metadata": {},
   "source": [
    "## Avaliando métricas"
   ]
  },
  {
   "cell_type": "code",
   "execution_count": 75,
   "id": "ce357331",
   "metadata": {},
   "outputs": [
    {
     "name": "stdout",
     "output_type": "stream",
     "text": [
      "         precision recall f1-score\n",
      "0            98.98  73.54    84.39\n",
      "1             8.52  76.50    15.33\n",
      "accuracy     73.63  73.63    73.63\n"
     ]
    }
   ],
   "source": [
    "report = classification_report(y_test, y_pred, output_dict=True, zero_division=0)\n",
    "report_df = pd.DataFrame(report).transpose()\n",
    "report_df = report_df.drop(columns=['support'])\n",
    "report_df_formatted = report_df.head(3).map(lambda x: f\"{x * 100:.2f}\")\n",
    "print(report_df_formatted)"
   ]
  },
  {
   "cell_type": "markdown",
   "id": "a7ba33c7",
   "metadata": {},
   "source": [
    "Como esperando no relatório das métricas observamos:\n",
    "1. A classe OK tem 98,98% das previsoes corretas. Recall de 73,54% o que mostra que a maioria dos casos ok foram detectados. Com resultados altos trazem um alto f1-score;\n",
    "2. A classe NOK tem 8,52% de previsões corretas. Recall de 76,50% que mostra que o modelo ainda detecta muito pouco os casos nok. Como resultado desse equilibrio traz um f1-score baixo.\n",
    "3. A acuracia tem um valor médio para alto devido ao desbalaceamento das classes."
   ]
  },
  {
   "cell_type": "code",
   "execution_count": 36,
   "id": "b17bae89",
   "metadata": {},
   "outputs": [
    {
     "data": {
      "image/png": "[encoded data removed]",
      "text/plain": [
       "<Figure size 640x480 with 1 Axes>"
      ]
     },
     "metadata": {},
     "output_type": "display_data"
    },
    {
     "name": "stdout",
     "output_type": "stream",
     "text": [
      "AUC: 0.83\n"
     ]
    }
   ],
   "source": [
    "y_proba = pipeline.predict_proba(X_test)[:, 1]\n",
    "auc = roc_auc_score(y_test, y_proba)\n",
    "\n",
    "\n",
    "fpr, tpr, thresholds = roc_curve(y_test, y_proba)\n",
    "plt.plot(fpr, tpr)\n",
    "plt.xlabel(\"FPR\")\n",
    "plt.ylabel(\"TPR (Recall)\")\n",
    "plt.title(\"ROC Curve\")\n",
    "plt.show()\n",
    "print(f\"AUC: {auc:.2f}\")\n",
    "\n"
   ]
  },
  {
   "cell_type": "markdown",
   "id": "cb790542",
   "metadata": {},
   "source": [
    "Pela curva ROC observamos:\n",
    "1. Curva cresce suavemente o que mostra dificuldade na distribuição entre as classes\n",
    "2. Valor maior que 0,5 (melhor que o acaso) mas abaixo do ideal (0,9)\n",
    "3. Torna o modelo aceitavel mas ainda com pontos de melhoria "
   ]
  },
  {
   "cell_type": "markdown",
   "id": "8087e47c",
   "metadata": {},
   "source": [
    "# Otimizar resultado a partir da curva ROC"
   ]
  },
  {
   "cell_type": "markdown",
   "id": "9aea623e",
   "metadata": {},
   "source": [
    "## Otimização F1-score"
   ]
  },
  {
   "cell_type": "code",
   "execution_count": 83,
   "id": "1a808628",
   "metadata": {},
   "outputs": [
    {
     "name": "stdout",
     "output_type": "stream",
     "text": [
      "Threshold ideal (F1-score máximo): 0.0970\n"
     ]
    }
   ],
   "source": [
    "from sklearn.metrics import precision_recall_curve\n",
    "\n",
    "precision, recall, thresholds_pr = precision_recall_curve(y_test, y_proba)\n",
    "f1 = 2 * (precision * recall) / (precision + recall + 1e-8)\n",
    "optimal_threshold_f1 = thresholds_pr[np.argmax(f1)]\n",
    "\n",
    "print(f\"Threshold ideal (F1-score máximo): {optimal_threshold_f1:.4f}\")"
   ]
  },
  {
   "cell_type": "code",
   "execution_count": 85,
   "id": "83f48edf",
   "metadata": {},
   "outputs": [
    {
     "data": {
      "image/png": "[encoded data removed]",
      "text/plain": [
       "<Figure size 600x400 with 1 Axes>"
      ]
     },
     "metadata": {},
     "output_type": "display_data"
    }
   ],
   "source": [
    "y_pred = (y_proba >= optimal_threshold_f1).astype(int)\n",
    "\n",
    "cm = confusion_matrix(y_test, y_pred)\n",
    "labels = [\"OK (0)\", \"NOK (1)\"]\n",
    "\n",
    "fig, ax = plt.subplots(figsize=(6, 4))\n",
    "\n",
    "# Plotar manualmente com cores nos quadrantes\n",
    "for i in range(cm.shape[0]):\n",
    "    for j in range(cm.shape[1]):\n",
    "        value = cm[i, j]\n",
    "        color = '#228B22' if i == j else '#B22222'\n",
    "        ax.add_patch(plt.Rectangle((j, i), 1, 1, fill=True, facecolor=color, edgecolor='white', linewidth=1))\n",
    "        ax.text(j + 0.5, i + 0.5, str(value), ha='center', va='center', color='white', fontsize=20)\n",
    "\n",
    "# Eixos e rótulos\n",
    "ax.set_xticks([0.5, 1.5])\n",
    "ax.set_xticklabels(labels)\n",
    "ax.set_yticks([0.5, 1.5])\n",
    "ax.set_yticklabels(labels)\n",
    "ax.set_xlabel(\"Predito\")\n",
    "ax.set_ylabel(\"Real\")\n",
    "ax.set_title(\"Matriz de Confusão\")\n",
    "\n",
    "# Ajustes de grade\n",
    "ax.set_xlim(0, 2)\n",
    "ax.set_ylim(0, 2)\n",
    "ax.invert_yaxis()\n",
    "plt.tight_layout()\n",
    "plt.show()"
   ]
  },
  {
   "cell_type": "code",
   "execution_count": 79,
   "id": "bd408e80",
   "metadata": {},
   "outputs": [
    {
     "name": "stdout",
     "output_type": "stream",
     "text": [
      "         precision recall f1-score\n",
      "0            97.84  93.38    95.56\n",
      "1            14.87  35.90    21.03\n",
      "accuracy     91.59  91.59    91.59\n"
     ]
    }
   ],
   "source": [
    "report = classification_report(y_test, y_pred, output_dict=True, zero_division=0)\n",
    "report_df = pd.DataFrame(report).transpose()\n",
    "report_df = report_df.drop(columns=['support'])\n",
    "report_df_formatted = report_df.head(3).map(lambda x: f\"{x * 100:.2f}\")\n",
    "print(report_df_formatted)"
   ]
  },
  {
   "cell_type": "markdown",
   "id": "5d73d5bd",
   "metadata": {},
   "source": [
    "1. Após otimizar visando uma melhora no f1-score observa-se que para os casos de NOK houve um aumento na precisão e uma queda no recall e um aumento obvio no f1-score;\n",
    "2. Para os casos OK a precisão teve uma queda bem baixa, o recall aumento significativamente e também uma boa melhora no f1-score;\n",
    "3. Quanto ao resultados gerais as três métricas houveram um aumento."
   ]
  },
  {
   "cell_type": "markdown",
   "id": "0e90ddf7",
   "metadata": {},
   "source": [
    "## Otimização Youden"
   ]
  },
  {
   "cell_type": "code",
   "execution_count": null,
   "id": "487360b2",
   "metadata": {},
   "outputs": [
    {
     "name": "stdout",
     "output_type": "stream",
     "text": [
      "Threshold ideal (Youden): 0.0168\n"
     ]
    }
   ],
   "source": [
    "fpr, tpr, thresholds = roc_curve(y_test, y_proba)\n",
    "youden_index = tpr - fpr\n",
    "optimal_threshold = thresholds[np.argmax(youden_index)]\n",
    "print(f\"Threshold ideal (Youden): {optimal_threshold:.4f}\")\n"
   ]
  },
  {
   "cell_type": "code",
   "execution_count": 86,
   "id": "dba45e2d",
   "metadata": {},
   "outputs": [
    {
     "data": {
      "image/png": "[encoded data removed]",
      "text/plain": [
       "<Figure size 600x400 with 1 Axes>"
      ]
     },
     "metadata": {},
     "output_type": "display_data"
    }
   ],
   "source": [
    "y_pred = (y_proba >= optimal_threshold).astype(int)\n",
    "\n",
    "cm = confusion_matrix(y_test, y_pred)\n",
    "labels = [\"OK (0)\", \"NOK (1)\"]\n",
    "\n",
    "fig, ax = plt.subplots(figsize=(6, 4))\n",
    "\n",
    "# Plotar manualmente com cores nos quadrantes\n",
    "for i in range(cm.shape[0]):\n",
    "    for j in range(cm.shape[1]):\n",
    "        value = cm[i, j]\n",
    "        color = '#228B22' if i == j else '#B22222'\n",
    "        ax.add_patch(plt.Rectangle((j, i), 1, 1, fill=True, facecolor=color, edgecolor='white', linewidth=1))\n",
    "        ax.text(j + 0.5, i + 0.5, str(value), ha='center', va='center', color='white', fontsize=20)\n",
    "\n",
    "# Eixos e rótulos\n",
    "ax.set_xticks([0.5, 1.5])\n",
    "ax.set_xticklabels(labels)\n",
    "ax.set_yticks([0.5, 1.5])\n",
    "ax.set_yticklabels(labels)\n",
    "ax.set_xlabel(\"Predito\")\n",
    "ax.set_ylabel(\"Real\")\n",
    "ax.set_title(\"Matriz de Confusão\")\n",
    "\n",
    "# Ajustes de grade\n",
    "ax.set_xlim(0, 2)\n",
    "ax.set_ylim(0, 2)\n",
    "ax.invert_yaxis()\n",
    "plt.tight_layout()\n",
    "plt.show()"
   ]
  },
  {
   "cell_type": "code",
   "execution_count": 82,
   "id": "e776142d",
   "metadata": {},
   "outputs": [
    {
     "name": "stdout",
     "output_type": "stream",
     "text": [
      "         precision recall f1-score\n",
      "0            99.47  60.84    75.50\n",
      "1             6.89  89.96    12.80\n",
      "accuracy     61.75  61.75    61.75\n"
     ]
    }
   ],
   "source": [
    "report = classification_report(y_test, y_pred, output_dict=True, zero_division=0)\n",
    "report_df = pd.DataFrame(report).transpose()\n",
    "report_df = report_df.drop(columns=['support'])\n",
    "report_df_formatted = report_df.head(3).map(lambda x: f\"{x * 100:.2f}\")\n",
    "print(report_df_formatted)"
   ]
  },
  {
   "cell_type": "markdown",
   "id": "2658d2ff",
   "metadata": {},
   "source": [
    "1. Após otimizar o ponto de mudança dessa maneira observa-se uma melhoria no recall dos casos NOK mas uma piora tanto no F1-Score quanto precisão;\n",
    "2. O recall e o f1-sscore dos casos OK cai muito devido a otimização utilizada;\n",
    "3. A acurácia geral também diminui devido ao desbalanceamento para casos OK."
   ]
  }
 ],
 "metadata": {
  "kernelspec": {
   "display_name": "venv",
   "language": "python",
   "name": "python3"
  },
  "language_info": {
   "codemirror_mode": {
    "name": "ipython",
    "version": 3
   },
   "file_extension": ".py",
   "mimetype": "text/x-python",
   "name": "python",
   "nbconvert_exporter": "python",
   "pygments_lexer": "ipython3",
   "version": "3.13.2"
  }
 },
 "nbformat": 4,
 "nbformat_minor": 5
}
