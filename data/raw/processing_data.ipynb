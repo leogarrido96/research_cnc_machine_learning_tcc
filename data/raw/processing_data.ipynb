{
 "cells": [
  {
   "cell_type": "markdown",
   "id": "f3e8bf49",
   "metadata": {},
   "source": [
    "# Etapa 1: redução\n",
    "Devido ao tamanho do dataframes não é possivel analisar os dados porque consome muito devido ao fato de ter 178 milhoes de linhas tornando o processo lento e sem respostas. Para isso vamos reduzir o dataframes para 1% dos dados mantendo sua proporção de resultados iniciais."
   ]
  },
  {
   "cell_type": "markdown",
   "id": "2dad1fda",
   "metadata": {},
   "source": []
  },
  {
   "cell_type": "markdown",
   "id": "75a9d8be",
   "metadata": {},
   "source": []
  },
  {
   "cell_type": "code",
   "execution_count": null,
   "id": "d667e48c",
   "metadata": {},
   "outputs": [],
   "source": [
    "import pandas as pd\n",
    "chunks = pd.read_csv(\"raw_df.csv\", chunksize=1_000_000)  \n",
    "\n",
    "sampled_data = pd.concat([chunk.sample(frac=0.01, random_state=42) for chunk in chunks])"
   ]
  },
  {
   "cell_type": "markdown",
   "id": "89b82374",
   "metadata": {},
   "source": [
    "# Etapa 2: Verificação\n",
    "Verifica a proporção dos dados em relação ao antigo dataframes"
   ]
  },
  {
   "cell_type": "code",
   "execution_count": 10,
   "id": "15425474",
   "metadata": {},
   "outputs": [
    {
     "name": "stdout",
     "output_type": "stream",
     "text": [
      "<class 'pandas.core.frame.DataFrame'>\n",
      "RangeIndex: 1786012 entries, 0 to 1786011\n",
      "Data columns (total 14 columns):\n",
      " #   Column       Dtype  \n",
      "---  ------       -----  \n",
      " 0   index        int64  \n",
      " 1   0            float64\n",
      " 2   1            float64\n",
      " 3   2            float64\n",
      " 4   machine      object \n",
      " 5   operation    object \n",
      " 6   result       object \n",
      " 7   file_name    object \n",
      " 8   month        object \n",
      " 9   year         int64  \n",
      " 10  description  object \n",
      " 11  speed        int64  \n",
      " 12  feed         int64  \n",
      " 13  duration     int64  \n",
      "dtypes: float64(3), int64(5), object(6)\n",
      "memory usage: 190.8+ MB\n"
     ]
    }
   ],
   "source": [
    "sampled_data.reset_index().info()"
   ]
  },
  {
   "cell_type": "code",
   "execution_count": 11,
   "id": "d6164f1c",
   "metadata": {},
   "outputs": [
    {
     "name": "stdout",
     "output_type": "stream",
     "text": [
      "result\n",
      "good    0.968547\n",
      "bad     0.031453\n",
      "Name: proportion, dtype: float64\n"
     ]
    }
   ],
   "source": [
    "print(sampled_data['result'].value_counts(normalize=True))\n"
   ]
  },
  {
   "cell_type": "markdown",
   "id": "eaf01da0",
   "metadata": {},
   "source": [
    "# Etapa 3: salvar dados\n",
    "Com o processamento realizado salvamos como um novo dataframes"
   ]
  },
  {
   "cell_type": "code",
   "execution_count": null,
   "id": "d5bd0e64",
   "metadata": {},
   "outputs": [],
   "source": [
    "sampled_data.reset_index().to_csv(\"sample_df_raw.csv\", index=False)"
   ]
  }
 ],
 "metadata": {
  "kernelspec": {
   "display_name": "venv",
   "language": "python",
   "name": "python3"
  },
  "language_info": {
   "codemirror_mode": {
    "name": "ipython",
    "version": 3
   },
   "file_extension": ".py",
   "mimetype": "text/x-python",
   "name": "python",
   "nbconvert_exporter": "python",
   "pygments_lexer": "ipython3",
   "version": "3.13.2"
  }
 },
 "nbformat": 4,
 "nbformat_minor": 5
}
